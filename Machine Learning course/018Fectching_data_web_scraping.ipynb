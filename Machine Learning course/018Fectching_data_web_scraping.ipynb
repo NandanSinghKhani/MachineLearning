{
 "cells": [
  {
   "cell_type": "code",
   "execution_count": 1,
   "id": "6728e463",
   "metadata": {},
   "outputs": [],
   "source": [
    "import pandas as pd\n"
   ]
  },
  {
   "cell_type": "code",
   "execution_count": 2,
   "id": "fc210f0c",
   "metadata": {},
   "outputs": [],
   "source": [
    "import requests"
   ]
  },
  {
   "cell_type": "code",
   "execution_count": 7,
   "id": "a7d59a99",
   "metadata": {},
   "outputs": [],
   "source": [
    "from bs4 import BeautifulSoup\n",
    "import numpy as np"
   ]
  },
  {
   "cell_type": "markdown",
   "id": "bc3c0eab",
   "metadata": {},
   "source": [
    "# if response code is 403 "
   ]
  },
  {
   "cell_type": "code",
   "execution_count": 13,
   "id": "2cde2b1b",
   "metadata": {},
   "outputs": [],
   "source": [
    "headers = {'User-Agent':'Mozilla/5.0 (Windows NT 6.3; Win 64 ; x64) Apple WeKit /537.36(KHTML , like Gecko) Chrome/80.0.3987.162 Safari/537.36'}\n",
    "webpage = requests.get('https://www.ambitionbox.com/list-of-companies?page=1',headers=headers).text"
   ]
  },
  {
   "cell_type": "code",
   "execution_count": 19,
   "id": "3dda74bc",
   "metadata": {},
   "outputs": [
    {
     "name": "stdout",
     "output_type": "stream",
     "text": [
      "Collecting parser-libraries\n",
      "  Downloading parser_libraries-3.7.tar.gz (4.4 kB)\n",
      "  Preparing metadata (setup.py): started\n",
      "  Preparing metadata (setup.py): finished with status 'done'\n",
      "Collecting pymysql (from parser-libraries)\n",
      "  Downloading PyMySQL-1.1.0-py3-none-any.whl.metadata (4.4 kB)\n",
      "Collecting openpy (from parser-libraries)\n",
      "  Downloading openpy-0.0.2.tar.gz (2.8 kB)\n",
      "  Preparing metadata (setup.py): started\n",
      "  Preparing metadata (setup.py): finished with status 'done'\n",
      "Requirement already satisfied: requests in c:\\users\\hp\\appdata\\local\\programs\\python\\python37\\lib\\site-packages (from parser-libraries) (2.29.0)\n",
      "Collecting bs4 (from parser-libraries)\n",
      "  Downloading bs4-0.0.2-py2.py3-none-any.whl.metadata (411 bytes)\n",
      "Collecting selenium (from parser-libraries)\n",
      "  Downloading selenium-4.11.2-py3-none-any.whl.metadata (7.0 kB)\n",
      "Collecting pytelegrambotapi (from parser-libraries)\n",
      "  Downloading pyTelegramBotAPI-4.15.4.tar.gz (260 kB)\n",
      "     -------------------------------------- 260.1/260.1 kB 1.6 MB/s eta 0:00:00\n",
      "  Preparing metadata (setup.py): started\n",
      "  Preparing metadata (setup.py): finished with status 'done'\n",
      "Collecting cryptography (from parser-libraries)\n",
      "  Downloading cryptography-42.0.3-cp37-abi3-win_amd64.whl.metadata (5.4 kB)\n",
      "Requirement already satisfied: urllib3 in c:\\users\\hp\\appdata\\local\\programs\\python\\python37\\lib\\site-packages (from parser-libraries) (1.26.15)\n",
      "Requirement already satisfied: beautifulsoup4 in c:\\users\\hp\\appdata\\local\\programs\\python\\python37\\lib\\site-packages (from bs4->parser-libraries) (4.12.2)\n",
      "Requirement already satisfied: cffi>=1.12 in c:\\users\\hp\\appdata\\local\\programs\\python\\python37\\lib\\site-packages (from cryptography->parser-libraries) (1.15.1)\n",
      "Collecting s3fs (from openpy->parser-libraries)\n",
      "  Downloading s3fs-2023.1.0-py3-none-any.whl (27 kB)\n",
      "Requirement already satisfied: charset-normalizer<4,>=2 in c:\\users\\hp\\appdata\\local\\programs\\python\\python37\\lib\\site-packages (from requests->parser-libraries) (3.1.0)\n",
      "Requirement already satisfied: idna<4,>=2.5 in c:\\users\\hp\\appdata\\local\\programs\\python\\python37\\lib\\site-packages (from requests->parser-libraries) (3.4)\n",
      "Requirement already satisfied: certifi>=2017.4.17 in c:\\users\\hp\\appdata\\local\\programs\\python\\python37\\lib\\site-packages (from requests->parser-libraries) (2022.12.7)\n",
      "Collecting trio~=0.17 (from selenium->parser-libraries)\n",
      "  Downloading trio-0.22.2-py3-none-any.whl.metadata (4.7 kB)\n",
      "Collecting trio-websocket~=0.9 (from selenium->parser-libraries)\n",
      "  Downloading trio_websocket-0.11.1-py3-none-any.whl.metadata (4.7 kB)\n",
      "Requirement already satisfied: pycparser in c:\\users\\hp\\appdata\\local\\programs\\python\\python37\\lib\\site-packages (from cffi>=1.12->cryptography->parser-libraries) (2.21)\n",
      "Requirement already satisfied: attrs>=20.1.0 in c:\\users\\hp\\appdata\\local\\programs\\python\\python37\\lib\\site-packages (from trio~=0.17->selenium->parser-libraries) (23.1.0)\n",
      "Collecting sortedcontainers (from trio~=0.17->selenium->parser-libraries)\n",
      "  Downloading sortedcontainers-2.4.0-py2.py3-none-any.whl (29 kB)\n",
      "Collecting outcome (from trio~=0.17->selenium->parser-libraries)\n",
      "  Downloading outcome-1.3.0.post0-py2.py3-none-any.whl.metadata (2.6 kB)\n",
      "Requirement already satisfied: sniffio in c:\\users\\hp\\appdata\\local\\programs\\python\\python37\\lib\\site-packages (from trio~=0.17->selenium->parser-libraries) (1.3.0)\n",
      "Requirement already satisfied: exceptiongroup>=1.0.0rc9 in c:\\users\\hp\\appdata\\local\\programs\\python\\python37\\lib\\site-packages (from trio~=0.17->selenium->parser-libraries) (1.2.0)\n",
      "Collecting wsproto>=0.14 (from trio-websocket~=0.9->selenium->parser-libraries)\n",
      "  Downloading wsproto-1.2.0-py3-none-any.whl (24 kB)\n",
      "Collecting PySocks!=1.5.7,<2.0,>=1.5.6 (from urllib3[socks]<3,>=1.26->selenium->parser-libraries)\n",
      "  Downloading PySocks-1.7.1-py3-none-any.whl (16 kB)\n",
      "Requirement already satisfied: soupsieve>1.2 in c:\\users\\hp\\appdata\\local\\programs\\python\\python37\\lib\\site-packages (from beautifulsoup4->bs4->parser-libraries) (2.4.1)\n",
      "Collecting aiobotocore~=2.4.2 (from s3fs->openpy->parser-libraries)\n",
      "  Downloading aiobotocore-2.4.2-py3-none-any.whl (66 kB)\n",
      "     ---------------------------------------- 66.8/66.8 kB 1.2 MB/s eta 0:00:00\n",
      "Collecting fsspec==2023.1.0 (from s3fs->openpy->parser-libraries)\n",
      "  Downloading fsspec-2023.1.0-py3-none-any.whl (143 kB)\n",
      "     -------------------------------------- 143.0/143.0 kB 1.1 MB/s eta 0:00:00\n",
      "Collecting aiohttp!=4.0.0a0,!=4.0.0a1 (from s3fs->openpy->parser-libraries)\n",
      "  Downloading aiohttp-3.8.6-cp37-cp37m-win_amd64.whl.metadata (7.9 kB)\n",
      "Collecting botocore<1.27.60,>=1.27.59 (from aiobotocore~=2.4.2->s3fs->openpy->parser-libraries)\n",
      "  Downloading botocore-1.27.59-py3-none-any.whl (9.1 MB)\n",
      "     ---------------------------------------- 9.1/9.1 MB 4.0 MB/s eta 0:00:00\n",
      "Requirement already satisfied: wrapt>=1.10.10 in c:\\users\\hp\\appdata\\local\\programs\\python\\python37\\lib\\site-packages (from aiobotocore~=2.4.2->s3fs->openpy->parser-libraries) (1.16.0)\n",
      "Collecting aioitertools>=0.5.1 (from aiobotocore~=2.4.2->s3fs->openpy->parser-libraries)\n",
      "  Downloading aioitertools-0.11.0-py3-none-any.whl (23 kB)\n",
      "Collecting multidict<7.0,>=4.5 (from aiohttp!=4.0.0a0,!=4.0.0a1->s3fs->openpy->parser-libraries)\n",
      "  Downloading multidict-6.0.5-cp37-cp37m-win_amd64.whl.metadata (4.3 kB)\n",
      "Collecting async-timeout<5.0,>=4.0.0a3 (from aiohttp!=4.0.0a0,!=4.0.0a1->s3fs->openpy->parser-libraries)\n",
      "  Downloading async_timeout-4.0.3-py3-none-any.whl.metadata (4.2 kB)\n",
      "Collecting yarl<2.0,>=1.0 (from aiohttp!=4.0.0a0,!=4.0.0a1->s3fs->openpy->parser-libraries)\n",
      "  Downloading yarl-1.9.4-cp37-cp37m-win_amd64.whl.metadata (32 kB)\n",
      "Collecting frozenlist>=1.1.1 (from aiohttp!=4.0.0a0,!=4.0.0a1->s3fs->openpy->parser-libraries)\n",
      "  Downloading frozenlist-1.3.3-cp37-cp37m-win_amd64.whl (34 kB)\n",
      "Collecting aiosignal>=1.1.2 (from aiohttp!=4.0.0a0,!=4.0.0a1->s3fs->openpy->parser-libraries)\n",
      "  Downloading aiosignal-1.3.1-py3-none-any.whl (7.6 kB)\n",
      "Collecting asynctest==0.13.0 (from aiohttp!=4.0.0a0,!=4.0.0a1->s3fs->openpy->parser-libraries)\n",
      "  Downloading asynctest-0.13.0-py3-none-any.whl (26 kB)\n",
      "Requirement already satisfied: typing-extensions>=3.7.4 in c:\\users\\hp\\appdata\\local\\programs\\python\\python37\\lib\\site-packages (from aiohttp!=4.0.0a0,!=4.0.0a1->s3fs->openpy->parser-libraries) (4.7.1)\n",
      "Requirement already satisfied: importlib-metadata in c:\\users\\hp\\appdata\\local\\programs\\python\\python37\\lib\\site-packages (from attrs>=20.1.0->trio~=0.17->selenium->parser-libraries) (6.6.0)\n",
      "Collecting h11<1,>=0.9.0 (from wsproto>=0.14->trio-websocket~=0.9->selenium->parser-libraries)\n",
      "  Downloading h11-0.14.0-py3-none-any.whl (58 kB)\n",
      "     ---------------------------------------- 58.3/58.3 kB 1.5 MB/s eta 0:00:00\n",
      "Collecting jmespath<2.0.0,>=0.7.1 (from botocore<1.27.60,>=1.27.59->aiobotocore~=2.4.2->s3fs->openpy->parser-libraries)\n",
      "  Downloading jmespath-1.0.1-py3-none-any.whl (20 kB)\n",
      "Requirement already satisfied: python-dateutil<3.0.0,>=2.1 in c:\\users\\hp\\appdata\\local\\programs\\python\\python37\\lib\\site-packages (from botocore<1.27.60,>=1.27.59->aiobotocore~=2.4.2->s3fs->openpy->parser-libraries) (2.8.2)\n",
      "Requirement already satisfied: zipp>=0.5 in c:\\users\\hp\\appdata\\local\\programs\\python\\python37\\lib\\site-packages (from importlib-metadata->attrs>=20.1.0->trio~=0.17->selenium->parser-libraries) (3.15.0)\n",
      "Requirement already satisfied: six>=1.5 in c:\\users\\hp\\appdata\\local\\programs\\python\\python37\\lib\\site-packages (from python-dateutil<3.0.0,>=2.1->botocore<1.27.60,>=1.27.59->aiobotocore~=2.4.2->s3fs->openpy->parser-libraries) (1.16.0)\n",
      "Downloading bs4-0.0.2-py2.py3-none-any.whl (1.2 kB)\n",
      "Downloading cryptography-42.0.3-cp37-abi3-win_amd64.whl (2.9 MB)\n",
      "   ---------------------------------------- 2.9/2.9 MB 5.4 MB/s eta 0:00:00\n",
      "Downloading PyMySQL-1.1.0-py3-none-any.whl (44 kB)\n",
      "   ---------------------------------------- 44.8/44.8 kB 2.3 MB/s eta 0:00:00\n",
      "Downloading selenium-4.11.2-py3-none-any.whl (7.2 MB)\n",
      "   ---------------------------------------- 7.2/7.2 MB 5.7 MB/s eta 0:00:00\n",
      "Downloading trio-0.22.2-py3-none-any.whl (400 kB)\n",
      "   ---------------------------------------- 400.2/400.2 kB 5.0 MB/s eta 0:00:00\n",
      "Downloading trio_websocket-0.11.1-py3-none-any.whl (17 kB)\n",
      "Downloading aiohttp-3.8.6-cp37-cp37m-win_amd64.whl (326 kB)\n",
      "   ---------------------------------------- 326.9/326.9 kB 5.1 MB/s eta 0:00:00\n",
      "Downloading outcome-1.3.0.post0-py2.py3-none-any.whl (10 kB)\n",
      "Downloading async_timeout-4.0.3-py3-none-any.whl (5.7 kB)\n",
      "Downloading multidict-6.0.5-cp37-cp37m-win_amd64.whl (26 kB)\n",
      "Downloading yarl-1.9.4-cp37-cp37m-win_amd64.whl (77 kB)\n",
      "   ---------------------------------------- 77.2/77.2 kB 4.5 MB/s eta 0:00:00\n",
      "Building wheels for collected packages: parser-libraries, openpy, pytelegrambotapi\n",
      "  Building wheel for parser-libraries (setup.py): started\n",
      "  Building wheel for parser-libraries (setup.py): finished with status 'done'\n",
      "  Created wheel for parser-libraries: filename=parser_libraries-3.7-py3-none-any.whl size=5256 sha256=b139baeee4f444c302848c91aaf9bb4630f56557f8a02ac61a120ee7064f72d1\n",
      "  Stored in directory: c:\\users\\hp\\appdata\\local\\pip\\cache\\wheels\\c6\\eb\\cf\\15e81b7b479d7f8aedbd4ff56eb036c68cd75e0c3812a7ac4a\n",
      "  Building wheel for openpy (setup.py): started\n",
      "  Building wheel for openpy (setup.py): finished with status 'done'\n",
      "  Created wheel for openpy: filename=openpy-0.0.2-py2.py3-none-any.whl size=2792 sha256=c9928a8e6262a472051d2d92a13fefe6894dac94bb13485e90ba9a44b4bc12a0\n",
      "  Stored in directory: c:\\users\\hp\\appdata\\local\\pip\\cache\\wheels\\13\\96\\17\\af2724b567695199d1d804e85e12b02643e38f68769b3cfafb\n",
      "  Building wheel for pytelegrambotapi (setup.py): started\n",
      "  Building wheel for pytelegrambotapi (setup.py): finished with status 'done'\n",
      "  Created wheel for pytelegrambotapi: filename=pyTelegramBotAPI-4.15.4-py3-none-any.whl size=232040 sha256=0ee93b43cc8bc5edcb088ec4a2c4bd10bf3687b7a98501028a823f227aa76de8\n",
      "  Stored in directory: c:\\users\\hp\\appdata\\local\\pip\\cache\\wheels\\6f\\ca\\29\\046e00f193b283940d0f6ad379f1483a0852dd398cdb0b8489\n",
      "Successfully built parser-libraries openpy pytelegrambotapi\n",
      "Installing collected packages: sortedcontainers, PySocks, pymysql, multidict, jmespath, h11, fsspec, frozenlist, asynctest, async-timeout, aioitertools, yarl, wsproto, pytelegrambotapi, cryptography, bs4, botocore, aiosignal, outcome, aiohttp, trio, aiobotocore, trio-websocket, s3fs, selenium, openpy, parser-libraries\n",
      "Successfully installed PySocks-1.7.1 aiobotocore-2.4.2 aiohttp-3.8.6 aioitertools-0.11.0 aiosignal-1.3.1 async-timeout-4.0.3 asynctest-0.13.0 botocore-1.27.59 bs4-0.0.2 cryptography-42.0.3 frozenlist-1.3.3 fsspec-2023.1.0 h11-0.14.0 jmespath-1.0.1 multidict-6.0.5 openpy-0.0.2 outcome-1.3.0.post0 parser-libraries-3.7 pymysql-1.1.0 pytelegrambotapi-4.15.4 s3fs-2023.1.0 selenium-4.11.2 sortedcontainers-2.4.0 trio-0.22.2 trio-websocket-0.11.1 wsproto-1.2.0 yarl-1.9.4\n",
      "Note: you may need to restart the kernel to use updated packages.\n"
     ]
    }
   ],
   "source": [
    "pip install parser-libraries"
   ]
  },
  {
   "cell_type": "code",
   "execution_count": 23,
   "id": "fedc2f84",
   "metadata": {},
   "outputs": [
    {
     "ename": "FeatureNotFound",
     "evalue": "Couldn't find a tree builder with the features you requested: lxml. Do you need to install a parser library?",
     "output_type": "error",
     "traceback": [
      "\u001b[1;31m--------------------------------------------------\u001b[0m",
      "\u001b[1;31mFeatureNotFound\u001b[0m  Traceback (most recent call last)",
      "\u001b[1;32m~\\AppData\\Local\\Temp\\ipykernel_4984\\3516142748.py\u001b[0m in \u001b[0;36m<module>\u001b[1;34m\u001b[0m\n\u001b[1;32m----> 1\u001b[1;33m \u001b[0msoup\u001b[0m\u001b[1;33m=\u001b[0m\u001b[0mBeautifulSoup\u001b[0m\u001b[1;33m(\u001b[0m\u001b[0mwebpage\u001b[0m\u001b[1;33m,\u001b[0m\u001b[1;34m'lxml'\u001b[0m\u001b[1;33m)\u001b[0m\u001b[1;33m\u001b[0m\u001b[1;33m\u001b[0m\u001b[0m\n\u001b[0m",
      "\u001b[1;32m~\\AppData\\Local\\Programs\\Python\\Python37\\lib\\site-packages\\bs4\\__init__.py\u001b[0m in \u001b[0;36m__init__\u001b[1;34m(self, markup, features, builder, parse_only, from_encoding, exclude_encodings, element_classes, **kwargs)\u001b[0m\n\u001b[0;32m    251\u001b[0m                     \u001b[1;34m\"Couldn't find a tree builder with the features you \"\u001b[0m\u001b[1;33m\u001b[0m\u001b[1;33m\u001b[0m\u001b[0m\n\u001b[0;32m    252\u001b[0m                     \u001b[1;34m\"requested: %s. Do you need to install a parser library?\"\u001b[0m\u001b[1;33m\u001b[0m\u001b[1;33m\u001b[0m\u001b[0m\n\u001b[1;32m--> 253\u001b[1;33m                     % \",\".join(features))\n\u001b[0m\u001b[0;32m    254\u001b[0m \u001b[1;33m\u001b[0m\u001b[0m\n\u001b[0;32m    255\u001b[0m         \u001b[1;31m# At this point either we have a TreeBuilder instance in\u001b[0m\u001b[1;33m\u001b[0m\u001b[1;33m\u001b[0m\u001b[1;33m\u001b[0m\u001b[0m\n",
      "\u001b[1;31mFeatureNotFound\u001b[0m: Couldn't find a tree builder with the features you requested: lxml. Do you need to install a parser library?"
     ]
    }
   ],
   "source": [
    "soup=BeautifulSoup(webpage,'lxml')"
   ]
  },
  {
   "cell_type": "code",
   "execution_count": null,
   "id": "33483dc2",
   "metadata": {},
   "outputs": [],
   "source": []
  },
  {
   "cell_type": "code",
   "execution_count": null,
   "id": "43c90915",
   "metadata": {},
   "outputs": [],
   "source": []
  },
  {
   "cell_type": "code",
   "execution_count": null,
   "id": "d1eabb10",
   "metadata": {},
   "outputs": [],
   "source": []
  },
  {
   "cell_type": "code",
   "execution_count": null,
   "id": "001b896f",
   "metadata": {},
   "outputs": [],
   "source": []
  }
 ],
 "metadata": {
  "kernelspec": {
   "display_name": "Python 3 (ipykernel)",
   "language": "python",
   "name": "python3"
  },
  "language_info": {
   "codemirror_mode": {
    "name": "ipython",
    "version": 3
   },
   "file_extension": ".py",
   "mimetype": "text/x-python",
   "name": "python",
   "nbconvert_exporter": "python",
   "pygments_lexer": "ipython3",
   "version": "3.7.2"
  }
 },
 "nbformat": 4,
 "nbformat_minor": 5
}
